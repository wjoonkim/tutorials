{
  "cells": [
    {
      "cell_type": "markdown",
      "metadata": {
        "id": "view-in-github",
        "colab_type": "text"
      },
      "source": [
        "<a href=\"https://colab.research.google.com/github/wjoonkim/tutorials/blob/main/behi5003_fall2025/aav_illumina_seq_demo.ipynb\" target=\"_parent\"><img src=\"https://colab.research.google.com/assets/colab-badge.svg\" alt=\"Open In Colab\"/></a>"
      ]
    },
    {
      "cell_type": "markdown",
      "source": [
        "# BEHI 5003 Fall 2025\n",
        "## Tutorial: DNA sequencing data processing and analysis\n",
        "### Author: Won Joon Kim\n",
        "### Affiliation: Biomolecular Engineering Lab (BEL), CBE, HKUST\n",
        "\n",
        "I acknowledge the use of generative AI (Gemini Agent in Colab) in writing the code below.\n",
        "\n",
        "Only the raw input data and outline was adapted from\n",
        "the Jupyter notebook authored by Mr. Mingyi Sun (BEL, CBE, HKUST)\n",
        "during the Fall 2024 offering of BIEN 6930B (this course).\n",
        "\n",
        "I sincerely thank the authors and maintainers of the packages used in this tutorial!"
      ],
      "metadata": {
        "id": "iCNasP3tiNa7"
      }
    },
    {
      "cell_type": "markdown",
      "metadata": {
        "id": "XADv_gMfdfAW"
      },
      "source": [
        "# 1. Setup the Colab environment for data processing and analysis"
      ]
    },
    {
      "cell_type": "code",
      "metadata": {
        "colab": {
          "base_uri": "https://localhost:8080/"
        },
        "id": "610fe83b",
        "outputId": "f0255df6-f624-4566-b586-730611b22b38"
      },
      "source": [
        "# Install conda for command-line tools\n",
        "!pip install -q condacolab\n",
        "import condacolab\n",
        "condacolab.install()"
      ],
      "execution_count": 3,
      "outputs": [
        {
          "output_type": "stream",
          "name": "stdout",
          "text": [
            "⏬ Downloading https://github.com/jaimergp/miniforge/releases/download/24.11.2-1_colab/Miniforge3-colab-24.11.2-1_colab-Linux-x86_64.sh...\n",
            "📦 Installing...\n",
            "📌 Adjusting configuration...\n",
            "🩹 Patching environment...\n",
            "⏲ Done in 0:00:13\n",
            "🔁 Restarting kernel...\n"
          ]
        }
      ]
    },
    {
      "cell_type": "code",
      "source": [
        "# install biopython for sequence analysis on python\n",
        "try:\n",
        "    import google.colab\n",
        "    # Running on Google Colab, so install Biopython first\n",
        "    !pip install biopython\n",
        "except ImportError:\n",
        "    pass"
      ],
      "metadata": {
        "colab": {
          "base_uri": "https://localhost:8080/",
          "height": 294
        },
        "id": "RzZKdbUyz2eg",
        "outputId": "e7c04f77-58f9-4bb5-a0c1-9a2648f1b9de"
      },
      "execution_count": 3,
      "outputs": [
        {
          "output_type": "stream",
          "name": "stdout",
          "text": [
            "Collecting biopython\n",
            "  Downloading biopython-1.85-cp311-cp311-manylinux_2_17_x86_64.manylinux2014_x86_64.whl.metadata (13 kB)\n",
            "Collecting numpy (from biopython)\n",
            "  Downloading numpy-2.3.3-cp311-cp311-manylinux_2_27_x86_64.manylinux_2_28_x86_64.whl.metadata (62 kB)\n",
            "Downloading biopython-1.85-cp311-cp311-manylinux_2_17_x86_64.manylinux2014_x86_64.whl (3.3 MB)\n",
            "\u001b[2K   \u001b[90m━━━━━━━━━━━━━━━━━━━━━━━━━━━━━━━━━━━━━━━━\u001b[0m \u001b[32m3.3/3.3 MB\u001b[0m \u001b[31m48.6 MB/s\u001b[0m eta \u001b[36m0:00:00\u001b[0m\n",
            "\u001b[?25hDownloading numpy-2.3.3-cp311-cp311-manylinux_2_27_x86_64.manylinux_2_28_x86_64.whl (16.9 MB)\n",
            "\u001b[2K   \u001b[90m━━━━━━━━━━━━━━━━━━━━━━━━━━━━━━━━━━━━━━━━\u001b[0m \u001b[32m16.9/16.9 MB\u001b[0m \u001b[31m142.6 MB/s\u001b[0m eta \u001b[36m0:00:00\u001b[0m\n",
            "\u001b[?25hInstalling collected packages: numpy, biopython\n",
            "Successfully installed biopython-1.85 numpy-2.3.3\n"
          ]
        },
        {
          "output_type": "display_data",
          "data": {
            "application/vnd.colab-display-data+json": {
              "pip_warning": {
                "packages": [
                  "numpy"
                ]
              },
              "id": "bcf352a293b04b06af857e22193b7650"
            }
          },
          "metadata": {}
        }
      ]
    },
    {
      "cell_type": "code",
      "source": [
        "import os\n",
        "import sys\n",
        "\n",
        "from urllib.request import urlretrieve\n",
        "\n",
        "import Bio\n",
        "\n",
        "print(\"Python version:\", sys.version_info)\n",
        "print(\"Biopython version:\", Bio.__version__)"
      ],
      "metadata": {
        "colab": {
          "base_uri": "https://localhost:8080/"
        },
        "id": "Zf2fT5uo3pCZ",
        "outputId": "20abfb19-cd7e-4a5b-a93f-f58acf4a0caf"
      },
      "execution_count": 1,
      "outputs": [
        {
          "output_type": "stream",
          "name": "stdout",
          "text": [
            "Python version: sys.version_info(major=3, minor=12, micro=11, releaselevel='final', serial=0)\n",
            "Biopython version: 1.85\n"
          ]
        }
      ]
    },
    {
      "cell_type": "code",
      "metadata": {
        "id": "b50c484f"
      },
      "source": [
        "# Install the cutadapt package from bioconda\n",
        "!conda install -c bioconda cutadapt -y"
      ],
      "execution_count": null,
      "outputs": []
    },
    {
      "cell_type": "code",
      "source": [
        "# read basic info about the cutadapt package\n",
        "!cutadapt"
      ],
      "metadata": {
        "id": "aSOsR2gue74_"
      },
      "execution_count": null,
      "outputs": []
    },
    {
      "cell_type": "markdown",
      "metadata": {
        "id": "q_J0_QHjdfAY"
      },
      "source": [
        "# 2. Explore how the raw Illumina_demo_pre.fastq file looks like"
      ]
    },
    {
      "cell_type": "markdown",
      "source": [
        "This is exactly how a FASTQ file looks like:"
      ],
      "metadata": {
        "id": "DBxSPsjC586t"
      }
    },
    {
      "cell_type": "code",
      "source": [
        "!head -n 8 /content/Illumina_demo_pre.fastq"
      ],
      "metadata": {
        "colab": {
          "base_uri": "https://localhost:8080/"
        },
        "id": "urGsGJyqkRQy",
        "outputId": "a6b45031-193c-40e1-b9ad-fcfb466abd22"
      },
      "execution_count": 27,
      "outputs": [
        {
          "output_type": "stream",
          "name": "stdout",
          "text": [
            "@A00887:88:HGJVTDRXX:1:2101:2645:1000 1:N:0:NTGATCGT+TGGTGAAG\n",
            "GNCTAATGGCCACCAACAACCAGAGAACAGGTAATTATTCTTGGAATTATAAGGGCTTAAGTTCCACCACTGCCCCCGCGACCGGCCGTACAACCTCCTAA\n",
            "+\n",
            "F#FFFFFFFFFFFFFF:FFFFFFF,FFF,FFFFFFFFFFFFFFFFFFFFFFFFFFFFFFFFFFFFFFFFFFFFFFFFFFFFFFFFFFFFFFF:FFFFFFFF\n",
            "@A00887:88:HGJVTDRXX:1:2101:4074:1000 1:N:0:NTGATCGT+TGGTGAAG\n",
            "ANGAAATGGCCACCAACAACCAGAGCACAGCTATTGTGCAGCATTCTGATTAGGGCTTAAGTTCCACCACTGCCCCCGCGACCGGCACGTACAACCTCTCT\n",
            "+\n",
            "F#FF:FFFFFFFFFFFFFFFFFFF,,,F:,:FFFFFFFFFF:FFFFFFFF:FFFFFFFFFFFFFFFFFFFFFFFFFFFFFFFFFFFFFFFFFFFFFFFFFF\n"
          ]
        }
      ]
    },
    {
      "cell_type": "markdown",
      "source": [
        "How many reads are there?"
      ],
      "metadata": {
        "id": "Sg_4BzheBGx5"
      }
    },
    {
      "cell_type": "code",
      "source": [
        "!grep -c '^@' Illumina_demo_pre.fastq"
      ],
      "metadata": {
        "colab": {
          "base_uri": "https://localhost:8080/"
        },
        "id": "2EyFepN1BIkG",
        "outputId": "84da6304-450e-4cf1-8f31-99a6939b824a"
      },
      "execution_count": 37,
      "outputs": [
        {
          "output_type": "stream",
          "name": "stdout",
          "text": [
            "1000\n"
          ]
        }
      ]
    },
    {
      "cell_type": "markdown",
      "source": [
        "Let's import it to Python to see the base call quality in numbers!"
      ],
      "metadata": {
        "id": "TGXNknu16Frj"
      }
    },
    {
      "cell_type": "code",
      "source": [
        "from Bio import SeqIO\n",
        "\n",
        "fastq_file = 'Illumina_demo_pre.fastq'\n",
        "\n",
        "try:\n",
        "    # Open the fastq file and read the first record\n",
        "    with open(fastq_file, \"r\") as handle:\n",
        "        first_read = next(SeqIO.parse(handle, \"fastq\"))\n",
        "        # Illumina_demo_pre_seqrecordlist = list(SeqIO.parse(handle, \"fastq\"))\n",
        "\n",
        "    # Print the first read\n",
        "    print(first_read.id)\n",
        "    print(first_read.seq)\n",
        "    print(first_read.letter_annotations[\"phred_quality\"])\n",
        "\n",
        "except FileNotFoundError:\n",
        "    print(f\"Error: The file {fastq_file} was not found.\")\n",
        "except StopIteration:\n",
        "    print(f\"Error: The file {fastq_file} is empty or does not contain valid fastq records.\")\n",
        "except Exception as e:\n",
        "    print(f\"An error occurred: {e}\")"
      ],
      "metadata": {
        "colab": {
          "base_uri": "https://localhost:8080/"
        },
        "id": "6VsB16EU4bLs",
        "outputId": "26d7924b-8aa9-4b87-bbdc-b28ac12f62c7"
      },
      "execution_count": 16,
      "outputs": [
        {
          "output_type": "stream",
          "name": "stdout",
          "text": [
            "A00887:88:HGJVTDRXX:1:2101:2645:1000\n",
            "GNCTAATGGCCACCAACAACCAGAGAACAGGTAATTATTCTTGGAATTATAAGGGCTTAAGTTCCACCACTGCCCCCGCGACCGGCCGTACAACCTCCTAA\n",
            "[37, 2, 37, 37, 37, 37, 37, 37, 37, 37, 37, 37, 37, 37, 37, 37, 25, 37, 37, 37, 37, 37, 37, 37, 11, 37, 37, 37, 11, 37, 37, 37, 37, 37, 37, 37, 37, 37, 37, 37, 37, 37, 37, 37, 37, 37, 37, 37, 37, 37, 37, 37, 37, 37, 37, 37, 37, 37, 37, 37, 37, 37, 37, 37, 37, 37, 37, 37, 37, 37, 37, 37, 37, 37, 37, 37, 37, 37, 37, 37, 37, 37, 37, 37, 37, 37, 37, 37, 37, 37, 37, 37, 25, 37, 37, 37, 37, 37, 37, 37, 37]\n"
          ]
        }
      ]
    },
    {
      "cell_type": "code",
      "source": [
        "import matplotlib.pyplot as plt\n",
        "import seaborn as sns\n",
        "\n",
        "# line plot of phred qualities in the first read\n",
        "# Assuming 'first_read' object exists from a previous cell\n",
        "if 'first_read' in locals():\n",
        "    phred_qualities = first_read.letter_annotations[\"phred_quality\"]\n",
        "\n",
        "    sns.lineplot(x=range(len(phred_qualities)), y=phred_qualities)\n",
        "    plt.title(\"Phred Quality Scores Across Positions in the First Read\")\n",
        "    plt.xlabel(\"Position in Read\")\n",
        "    plt.ylabel(\"Phred Quality Score\")\n",
        "    plt.ylim(0, 42) # Phred scores typically range from 0 to 41\n",
        "    plt.grid(True, alpha=0.5)\n",
        "    plt.show()\n",
        "else:\n",
        "    print(\"Error: 'first_read' object not found. Please run the cell to import the first read first.\")"
      ],
      "metadata": {
        "colab": {
          "base_uri": "https://localhost:8080/",
          "height": 472
        },
        "id": "5QwF_XgiAI-d",
        "outputId": "468152ef-a48d-487b-fbb4-8a33f6929a09"
      },
      "execution_count": 32,
      "outputs": [
        {
          "output_type": "display_data",
          "data": {
            "text/plain": [
              "<Figure size 640x480 with 1 Axes>"
            ],
            "image/png": "[encoded data removed]"
          },
          "metadata": {}
        }
      ]
    },
    {
      "cell_type": "markdown",
      "source": [
        "How long is the first raw read?"
      ],
      "metadata": {
        "id": "jMgfbp4gAtL0"
      }
    },
    {
      "cell_type": "code",
      "source": [
        "from Bio.Seq import Seq\n",
        "len(first_read.seq)"
      ],
      "metadata": {
        "colab": {
          "base_uri": "https://localhost:8080/"
        },
        "id": "Af-gYqhj5p1_",
        "outputId": "30c74be5-c9dd-4b42-8902-885116028b9f"
      },
      "execution_count": 14,
      "outputs": [
        {
          "output_type": "execute_result",
          "data": {
            "text/plain": [
              "101"
            ]
          },
          "metadata": {},
          "execution_count": 14
        }
      ]
    },
    {
      "cell_type": "code",
      "source": [
        "import matplotlib.pyplot as plt\n",
        "import seaborn as sns\n",
        "from Bio import SeqIO\n",
        "\n",
        "fastq_file = 'Illumina_demo_pre.fastq'\n",
        "sequence_lengths = []\n",
        "\n",
        "try:\n",
        "    # Read all sequence lengths from the fastq file\n",
        "    with open(fastq_file, \"r\") as handle:\n",
        "        for record in SeqIO.parse(handle, \"fastq\"):\n",
        "            sequence_lengths.append(len(record.seq))\n",
        "\n",
        "    # Plot a histogram of the sequence lengths\n",
        "    sns.histplot(sequence_lengths, bins=50, kde=False, edgecolor=None)\n",
        "    plt.title('Distribution of Sequence Lengths in Raw FASTQ File')\n",
        "    plt.xlabel('Sequence Length (bp)')\n",
        "    plt.ylabel('Frequency')\n",
        "    plt.grid(True, alpha=0.5)\n",
        "    plt.show()\n",
        "\n",
        "except FileNotFoundError:\n",
        "    print(f\"Error: The file {fastq_file} was not found.\")\n",
        "except Exception as e:\n",
        "    print(f\"An error occurred: {e}\")"
      ],
      "metadata": {
        "colab": {
          "base_uri": "https://localhost:8080/",
          "height": 472
        },
        "id": "efwVRUtm6rkY",
        "outputId": "151d6577-d495-4f82-cdd9-993970d4405e"
      },
      "execution_count": 31,
      "outputs": [
        {
          "output_type": "display_data",
          "data": {
            "text/plain": [
              "<Figure size 640x480 with 1 Axes>"
            ],
            "image/png": "[encoded data removed]"
          },
          "metadata": {}
        }
      ]
    },
    {
      "cell_type": "code",
      "source": [
        "import matplotlib.pyplot as plt\n",
        "import seaborn as sns\n",
        "from Bio import SeqIO\n",
        "\n",
        "all_quals = []\n",
        "\n",
        "try:\n",
        "    # Read all quality scores from the fastq file\n",
        "    with open(fastq_file, \"r\") as handle:\n",
        "        for record in SeqIO.parse(handle, \"fastq\"):\n",
        "            all_quals.extend(record.letter_annotations['phred_quality'])\n",
        "\n",
        "    # Plot a histogram of the quality scores\n",
        "    sns.histplot(all_quals, bins=100, kde=False, edgecolor=None)\n",
        "    plt.title(\"Distribution of Phred Quality Scores in Raw FASTQ File\")\n",
        "    plt.xlabel(\"Phred Quality Score\")\n",
        "    plt.ylabel(\"Frequency\")\n",
        "    plt.grid(True, alpha=0.5)\n",
        "    plt.show()\n",
        "\n",
        "except FileNotFoundError:\n",
        "    print(f\"Error: The file {fastq_file} was not found.\")\n",
        "except Exception as e:\n",
        "    print(f\"An error occurred: {e}\")"
      ],
      "metadata": {
        "colab": {
          "base_uri": "https://localhost:8080/",
          "height": 472
        },
        "id": "wPKNnJm17g7o",
        "outputId": "2aaedc0f-52b0-4d14-e76b-8e4d613ff52d"
      },
      "execution_count": 33,
      "outputs": [
        {
          "output_type": "display_data",
          "data": {
            "text/plain": [
              "<Figure size 640x480 with 1 Axes>"
            ],
            "image/png": "[encoded data removed]"
          },
          "metadata": {}
        }
      ]
    },
    {
      "cell_type": "markdown",
      "metadata": {
        "id": "Fu-Hr_pwdfAZ"
      },
      "source": [
        "# 3. Remove \"adapter\" sequences from the data\n",
        "\"adapter\" in this case denotes constant sequences flanking the desired 7-mer insertion library"
      ]
    },
    {
      "cell_type": "code",
      "metadata": {
        "colab": {
          "base_uri": "https://localhost:8080/"
        },
        "id": "b7ef7b18",
        "outputId": "6c43c41f-9dcd-44dd-9612-c75db3ad7a7f"
      },
      "source": [
        "import os\n",
        "\n",
        "num_cores = os.cpu_count()\n",
        "print(f\"Number of CPU cores available: {num_cores}\")"
      ],
      "execution_count": 5,
      "outputs": [
        {
          "output_type": "stream",
          "name": "stdout",
          "text": [
            "Number of CPU cores available: 2\n"
          ]
        }
      ]
    },
    {
      "cell_type": "code",
      "metadata": {
        "id": "b0aa1e1f",
        "colab": {
          "base_uri": "https://localhost:8080/"
        },
        "outputId": "31ebb04e-d838-46e8-c43d-60ccd4c49972"
      },
      "source": [
        "import subprocess\n",
        "\n",
        "# set up file paths\n",
        "raw_input_file = \"Illumina_demo_pre.fastq\"\n",
        "untrimmed_output_file = \"Illumina_demo_pre_untrimmed.fastq\" # discard\n",
        "lt21_output_file = \"Illumina_demo_pre_lt21.fastq\" # discard\n",
        "gt21_output_file = \"Illumina_demo_pre_gt21.fastq\" # discard\n",
        "len21_output_file = \"Illumina_demo_pre_len21.fastq\" # keep\n",
        "\n",
        "# define adapter sequences\n",
        "fiveprime_adapter_seq = \"ccaacaaccagagcaccggt\"\n",
        "threeprime_adapter_seq = \"ggcttaagttccaccactgc\"\n",
        "\n",
        "# desired length of library sequence\n",
        "library_len = 21\n",
        "\n",
        "# Define the cutadapt command and arguments\n",
        "command = [\n",
        "    \"cutadapt\",\n",
        "    \"--cores\", f\"{num_cores}\", # Using all available cores in the environment\n",
        "    \"--adapter\", f\"{fiveprime_adapter_seq}...{threeprime_adapter_seq}\",\n",
        "    \"--untrimmed-output\", untrimmed_output_file,\n",
        "    \"--minimum-length\", f\"{library_len}\",\n",
        "    \"--too-short-output\", lt21_output_file,\n",
        "    \"--maximum-length\", f\"{library_len}\",\n",
        "    \"--too-long-output\", gt21_output_file,\n",
        "    \"--output\", len21_output_file,\n",
        "    raw_input_file,\n",
        "]\n",
        "\n",
        "# Execute the command\n",
        "try:\n",
        "    subprocess.run(command, check=True)\n",
        "    print(\"Cutadapt command executed successfully.\")\n",
        "except subprocess.CalledProcessError as e:\n",
        "    print(f\"Error executing cutadapt command: {e}\")\n",
        "except FileNotFoundError:\n",
        "    print(\"Error: cutadapt command not found. Make sure cutadapt is installed and in your PATH.\")"
      ],
      "execution_count": 34,
      "outputs": [
        {
          "output_type": "stream",
          "name": "stdout",
          "text": [
            "Cutadapt command executed successfully.\n"
          ]
        }
      ]
    },
    {
      "cell_type": "markdown",
      "source": [
        "# 4. Check the desired output file"
      ],
      "metadata": {
        "id": "Mh7KqWXCuDfD"
      }
    },
    {
      "cell_type": "code",
      "source": [
        "!head -n 8 Illumina_demo_pre_len21.fastq"
      ],
      "metadata": {
        "colab": {
          "base_uri": "https://localhost:8080/"
        },
        "id": "Rbfnc6Z1thLs",
        "outputId": "fa00f2ec-e5bf-4185-9ac5-1c9d4d2dbcc4"
      },
      "execution_count": 38,
      "outputs": [
        {
          "output_type": "stream",
          "name": "stdout",
          "text": [
            "@A00887:88:HGJVTDRXX:1:2101:2645:1000 1:N:0:NTGATCGT+TGGTGAAG\n",
            "AATTATTCTTGGAATTATAAG\n",
            "+\n",
            "FFFFFFFFFFFFFFFFFFFFF\n",
            "@A00887:88:HGJVTDRXX:1:2101:4074:1000 1:N:0:NTGATCGT+TGGTGAAG\n",
            "ATTGTGCAGCATTCTGATTAG\n",
            "+\n",
            "FFFFFFFFF:FFFFFFFF:FF\n"
          ]
        }
      ]
    },
    {
      "cell_type": "markdown",
      "source": [
        "How many reads are left after keeping only the desired lengths?"
      ],
      "metadata": {
        "id": "1moFd9OiBcL5"
      }
    },
    {
      "cell_type": "code",
      "source": [
        "!grep -c '^@' Illumina_demo_pre_len21.fastq"
      ],
      "metadata": {
        "colab": {
          "base_uri": "https://localhost:8080/"
        },
        "id": "sBO5zGLhulCK",
        "outputId": "11130176-626f-4949-fbe3-1fb4b069edb0"
      },
      "execution_count": 36,
      "outputs": [
        {
          "output_type": "stream",
          "name": "stdout",
          "text": [
            "343\n"
          ]
        }
      ]
    },
    {
      "cell_type": "markdown",
      "source": [
        "# 5. Convert into amino acid residues"
      ],
      "metadata": {
        "id": "iDoqldvAC8mF"
      }
    },
    {
      "cell_type": "code",
      "execution_count": 41,
      "metadata": {
        "id": "kLZVjV6ndfAZ"
      },
      "outputs": [],
      "source": [
        "from Bio import SeqIO\n",
        "from Bio.Seq import Seq\n",
        "import pandas as pd\n",
        "import argparse\n",
        "from tqdm import tqdm\n",
        "\n",
        "def count_unique_dna_seq(fastq_file):\n",
        "    \"\"\"\n",
        "    Reads DNA sequences from a fastq file, counts the occurrences of each unique sequence,\n",
        "    and stores the results in a pandas DataFrame.\n",
        "\n",
        "    Parameters:\n",
        "    fastq_file (str): Path to the input fastq file.\n",
        "\n",
        "    Returns:\n",
        "    pd.DataFrame: DataFrame containing unique sequences and their counts.\n",
        "    \"\"\"\n",
        "    sequence_counts = {}\n",
        "\n",
        "    # Read sequences from the fastq file with tqdm progress bar\n",
        "    for record in tqdm(SeqIO.parse(fastq_file, \"fastq\"), desc=\"Parsed: \", unit=\" sequences\", dynamic_ncols=True):\n",
        "        sequence = str(record.seq)\n",
        "        if sequence in sequence_counts:\n",
        "            sequence_counts[sequence] += 1\n",
        "        else:\n",
        "            sequence_counts[sequence] = 1\n",
        "\n",
        "    # Convert the dictionary to a pandas DataFrame\n",
        "    df = pd.DataFrame(list(sequence_counts.items()), columns=['sequence', 'count'])\n",
        "    df['length'] = df['sequence'].apply(len)\n",
        "    df['amino_acid'] = df['sequence'].apply(lambda seq: str(Seq(seq).translate()))\n",
        "\n",
        "    return df\n",
        "\n",
        "def count_unique_aa_seq(df):\n",
        "    \"\"\"\n",
        "    Counts the occurrences of each unique amino acid sequence in the DataFrame.\n",
        "\n",
        "    Parameters:\n",
        "    df (pd.DataFrame): DataFrame containing DNA sequences, their counts, lengths, and translations.\n",
        "\n",
        "    Returns:\n",
        "    pd.DataFrame: DataFrame containing unique amino acid sequences, their summed counts, and occurrences.\n",
        "    \"\"\"\n",
        "    # Group by amino_acid and aggregate the sum of counts and the occurrence\n",
        "    amino_acid_counts_df = df.groupby('amino_acid').agg(\n",
        "        count=('count', 'sum'),\n",
        "        occurrence=('amino_acid', 'count')\n",
        "    ).reset_index()\n",
        "\n",
        "    return amino_acid_counts_df\n",
        "\n",
        "def filter_codons(df):\n",
        "    \"\"\"\n",
        "    Filters out sequences with a '*' (stop codon) or 'X' (unconfident base call) in the amino_acid column.\n",
        "\n",
        "    Parameters:\n",
        "    df (pd.DataFrame): DataFrame containing unique amino acid sequences, their summed counts, and occurrences.\n",
        "\n",
        "    Returns:\n",
        "    tuple: A tuple containing two DataFrames:\n",
        "        - Filtered DataFrame without sequences containing \"*\" or \"X\".\n",
        "        - DataFrame containing sequences that were filtered out.\n",
        "    \"\"\"\n",
        "    filtered_df = df[~df['amino_acid'].str.contains(r'\\*|X')]\n",
        "    filtered_out_df = df[df['amino_acid'].str.contains(r'\\*|X')]\n",
        "\n",
        "    return filtered_df, filtered_out_df"
      ]
    },
    {
      "cell_type": "code",
      "source": [
        "input_file = \"Illumina_demo_pre_len21.fastq\"\n",
        "dna_df = count_unique_dna_seq(input_file)\n",
        "dna_output_file = \"Illumina_demo_pre_len21_dna.csv\"\n",
        "dna_df.to_csv(dna_output_file, index=False)\n",
        "print(f\"\\n{len(dna_df)} DNA variants saved.\")\n",
        "\n",
        "amino_acid_df = count_unique_aa_seq(dna_df)\n",
        "amino_acid_output_file = \"Illumina_demo_pre_len21_aa.csv\"\n",
        "amino_acid_df.to_csv(amino_acid_output_file, index=False)\n",
        "print(f\"{len(amino_acid_df)} raw amino acid variants saved.\")\n",
        "\n",
        "filtered_amino_acid_df, filtered_out_amino_acid_df = filter_codons(amino_acid_df)\n",
        "filtered_amino_acid_output_file = \"Illumina_demo_pre_len21_aa_filtered.csv\"\n",
        "filtered_amino_acid_df.to_csv(filtered_amino_acid_output_file, index=False)\n",
        "print(f\"{len(filtered_amino_acid_df)} filtered amino acid variants saved.\")\n",
        "\n",
        "filtered_out_amino_acid_output_file = \"Illumina_demo_pre_len21_aa_filtered_out.csv\"\n",
        "filtered_out_amino_acid_df.to_csv(filtered_out_amino_acid_output_file, index=False)\n",
        "print(f\"{len(filtered_out_amino_acid_df)} filtered out amino acid variants saved.\")"
      ],
      "metadata": {
        "colab": {
          "base_uri": "https://localhost:8080/"
        },
        "id": "UCKV12e1DMkw",
        "outputId": "b3b8ffba-5b44-40bc-c00e-a62f94191237"
      },
      "execution_count": 44,
      "outputs": [
        {
          "output_type": "stream",
          "name": "stderr",
          "text": [
            "Parsed: : 343 sequences [00:00, 96198.35 sequences/s]"
          ]
        },
        {
          "output_type": "stream",
          "name": "stdout",
          "text": [
            "\n",
            "342 DNA variants saved.\n",
            "342 raw amino acid variants saved.\n",
            "278 filtered amino acid variants saved.\n",
            "64 filtered out amino acid variants saved.\n"
          ]
        },
        {
          "output_type": "stream",
          "name": "stderr",
          "text": [
            "\n"
          ]
        }
      ]
    },
    {
      "cell_type": "markdown",
      "metadata": {
        "id": "9VuJ_vEydfAZ"
      },
      "source": [
        "# 6. Visualizing the 7-mer insertion variants we have in our data"
      ]
    },
    {
      "cell_type": "code",
      "source": [
        "display(filtered_amino_acid_df)"
      ],
      "metadata": {
        "colab": {
          "base_uri": "https://localhost:8080/",
          "height": 424
        },
        "id": "gPEt1QyPE7dG",
        "outputId": "c1f0bf4c-e94f-4437-8fd7-bb77789c8413"
      },
      "execution_count": 47,
      "outputs": [
        {
          "output_type": "display_data",
          "data": {
            "text/plain": [
              "    amino_acid  count  occurrence\n",
              "16     AANFSFL      1           1\n",
              "17     AGRFLCF      1           1\n",
              "18     ALDCIVL      1           1\n",
              "19     AMFFLLF      1           1\n",
              "20     AMSFSTC      1           1\n",
              "..         ...    ...         ...\n",
              "335    YRGYPLI      1           1\n",
              "336    YRILLDF      1           1\n",
              "338    YSFIHSD      1           1\n",
              "339    YVFQLMD      1           1\n",
              "341    YYPRIES      1           1\n",
              "\n",
              "[278 rows x 3 columns]"
            ],
            "text/html": [
              "\n",
              "  <div id=\"df-7bb56741-c9fe-47f8-9d68-5d66be88c66b\" class=\"colab-df-container\">\n",
              "    <div>\n",
              "<style scoped>\n",
              "    .dataframe tbody tr th:only-of-type {\n",
              "        vertical-align: middle;\n",
              "    }\n",
              "\n",
              "    .dataframe tbody tr th {\n",
              "        vertical-align: top;\n",
              "    }\n",
              "\n",
              "    .dataframe thead th {\n",
              "        text-align: right;\n",
              "    }\n",
              "</style>\n",
              "<table border=\"1\" class=\"dataframe\">\n",
              "  <thead>\n",
              "    <tr style=\"text-align: right;\">\n",
              "      <th></th>\n",
              "      <th>amino_acid</th>\n",
              "      <th>count</th>\n",
              "      <th>occurrence</th>\n",
              "    </tr>\n",
              "  </thead>\n",
              "  <tbody>\n",
              "    <tr>\n",
              "      <th>16</th>\n",
              "      <td>AANFSFL</td>\n",
              "      <td>1</td>\n",
              "      <td>1</td>\n",
              "    </tr>\n",
              "    <tr>\n",
              "      <th>17</th>\n",
              "      <td>AGRFLCF</td>\n",
              "      <td>1</td>\n",
              "      <td>1</td>\n",
              "    </tr>\n",
              "    <tr>\n",
              "      <th>18</th>\n",
              "      <td>ALDCIVL</td>\n",
              "      <td>1</td>\n",
              "      <td>1</td>\n",
              "    </tr>\n",
              "    <tr>\n",
              "      <th>19</th>\n",
              "      <td>AMFFLLF</td>\n",
              "      <td>1</td>\n",
              "      <td>1</td>\n",
              "    </tr>\n",
              "    <tr>\n",
              "      <th>20</th>\n",
              "      <td>AMSFSTC</td>\n",
              "      <td>1</td>\n",
              "      <td>1</td>\n",
              "    </tr>\n",
              "    <tr>\n",
              "      <th>...</th>\n",
              "      <td>...</td>\n",
              "      <td>...</td>\n",
              "      <td>...</td>\n",
              "    </tr>\n",
              "    <tr>\n",
              "      <th>335</th>\n",
              "      <td>YRGYPLI</td>\n",
              "      <td>1</td>\n",
              "      <td>1</td>\n",
              "    </tr>\n",
              "    <tr>\n",
              "      <th>336</th>\n",
              "      <td>YRILLDF</td>\n",
              "      <td>1</td>\n",
              "      <td>1</td>\n",
              "    </tr>\n",
              "    <tr>\n",
              "      <th>338</th>\n",
              "      <td>YSFIHSD</td>\n",
              "      <td>1</td>\n",
              "      <td>1</td>\n",
              "    </tr>\n",
              "    <tr>\n",
              "      <th>339</th>\n",
              "      <td>YVFQLMD</td>\n",
              "      <td>1</td>\n",
              "      <td>1</td>\n",
              "    </tr>\n",
              "    <tr>\n",
              "      <th>341</th>\n",
              "      <td>YYPRIES</td>\n",
              "      <td>1</td>\n",
              "      <td>1</td>\n",
              "    </tr>\n",
              "  </tbody>\n",
              "</table>\n",
              "<p>278 rows × 3 columns</p>\n",
              "</div>\n",
              "    <div class=\"colab-df-buttons\">\n",
              "\n",
              "  <div class=\"colab-df-container\">\n",
              "    <button class=\"colab-df-convert\" onclick=\"convertToInteractive('df-7bb56741-c9fe-47f8-9d68-5d66be88c66b')\"\n",
              "            title=\"Convert this dataframe to an interactive table.\"\n",
              "            style=\"display:none;\">\n",
              "\n",
              "  <svg xmlns=\"http://www.w3.org/2000/svg\" height=\"24px\" viewBox=\"0 -960 960 960\">\n",
              "    <path d=\"M120-120v-720h720v720H120Zm60-500h600v-160H180v160Zm220 220h160v-160H400v160Zm0 220h160v-160H400v160ZM180-400h160v-160H180v160Zm440 0h160v-160H620v160ZM180-180h160v-160H180v160Zm440 0h160v-160H620v160Z\"/>\n",
              "  </svg>\n",
              "    </button>\n",
              "\n",
              "  <style>\n",
              "    .colab-df-container {\n",
              "      display:flex;\n",
              "      gap: 12px;\n",
              "    }\n",
              "\n",
              "    .colab-df-convert {\n",
              "      background-color: #E8F0FE;\n",
              "      border: none;\n",
              "      border-radius: 50%;\n",
              "      cursor: pointer;\n",
              "      display: none;\n",
              "      fill: #1967D2;\n",
              "      height: 32px;\n",
              "      padding: 0 0 0 0;\n",
              "      width: 32px;\n",
              "    }\n",
              "\n",
              "    .colab-df-convert:hover {\n",
              "      background-color: #E2EBFA;\n",
              "      box-shadow: 0px 1px 2px rgba(60, 64, 67, 0.3), 0px 1px 3px 1px rgba(60, 64, 67, 0.15);\n",
              "      fill: #174EA6;\n",
              "    }\n",
              "\n",
              "    .colab-df-buttons div {\n",
              "      margin-bottom: 4px;\n",
              "    }\n",
              "\n",
              "    [theme=dark] .colab-df-convert {\n",
              "      background-color: #3B4455;\n",
              "      fill: #D2E3FC;\n",
              "    }\n",
              "\n",
              "    [theme=dark] .colab-df-convert:hover {\n",
              "      background-color: #434B5C;\n",
              "      box-shadow: 0px 1px 3px 1px rgba(0, 0, 0, 0.15);\n",
              "      filter: drop-shadow(0px 1px 2px rgba(0, 0, 0, 0.3));\n",
              "      fill: #FFFFFF;\n",
              "    }\n",
              "  </style>\n",
              "\n",
              "    <script>\n",
              "      const buttonEl =\n",
              "        document.querySelector('#df-7bb56741-c9fe-47f8-9d68-5d66be88c66b button.colab-df-convert');\n",
              "      buttonEl.style.display =\n",
              "        google.colab.kernel.accessAllowed ? 'block' : 'none';\n",
              "\n",
              "      async function convertToInteractive(key) {\n",
              "        const element = document.querySelector('#df-7bb56741-c9fe-47f8-9d68-5d66be88c66b');\n",
              "        const dataTable =\n",
              "          await google.colab.kernel.invokeFunction('convertToInteractive',\n",
              "                                                    [key], {});\n",
              "        if (!dataTable) return;\n",
              "\n",
              "        const docLinkHtml = 'Like what you see? Visit the ' +\n",
              "          '<a target=\"_blank\" href=https://colab.research.google.com/notebooks/data_table.ipynb>data table notebook</a>'\n",
              "          + ' to learn more about interactive tables.';\n",
              "        element.innerHTML = '';\n",
              "        dataTable['output_type'] = 'display_data';\n",
              "        await google.colab.output.renderOutput(dataTable, element);\n",
              "        const docLink = document.createElement('div');\n",
              "        docLink.innerHTML = docLinkHtml;\n",
              "        element.appendChild(docLink);\n",
              "      }\n",
              "    </script>\n",
              "  </div>\n",
              "\n",
              "\n",
              "    <div id=\"df-5bd1afe6-5460-46f2-b3f3-102744b99989\">\n",
              "      <button class=\"colab-df-quickchart\" onclick=\"quickchart('df-5bd1afe6-5460-46f2-b3f3-102744b99989')\"\n",
              "                title=\"Suggest charts\"\n",
              "                style=\"display:none;\">\n",
              "\n",
              "<svg xmlns=\"http://www.w3.org/2000/svg\" height=\"24px\"viewBox=\"0 0 24 24\"\n",
              "     width=\"24px\">\n",
              "    <g>\n",
              "        <path d=\"M19 3H5c-1.1 0-2 .9-2 2v14c0 1.1.9 2 2 2h14c1.1 0 2-.9 2-2V5c0-1.1-.9-2-2-2zM9 17H7v-7h2v7zm4 0h-2V7h2v10zm4 0h-2v-4h2v4z\"/>\n",
              "    </g>\n",
              "</svg>\n",
              "      </button>\n",
              "\n",
              "<style>\n",
              "  .colab-df-quickchart {\n",
              "      --bg-color: #E8F0FE;\n",
              "      --fill-color: #1967D2;\n",
              "      --hover-bg-color: #E2EBFA;\n",
              "      --hover-fill-color: #174EA6;\n",
              "      --disabled-fill-color: #AAA;\n",
              "      --disabled-bg-color: #DDD;\n",
              "  }\n",
              "\n",
              "  [theme=dark] .colab-df-quickchart {\n",
              "      --bg-color: #3B4455;\n",
              "      --fill-color: #D2E3FC;\n",
              "      --hover-bg-color: #434B5C;\n",
              "      --hover-fill-color: #FFFFFF;\n",
              "      --disabled-bg-color: #3B4455;\n",
              "      --disabled-fill-color: #666;\n",
              "  }\n",
              "\n",
              "  .colab-df-quickchart {\n",
              "    background-color: var(--bg-color);\n",
              "    border: none;\n",
              "    border-radius: 50%;\n",
              "    cursor: pointer;\n",
              "    display: none;\n",
              "    fill: var(--fill-color);\n",
              "    height: 32px;\n",
              "    padding: 0;\n",
              "    width: 32px;\n",
              "  }\n",
              "\n",
              "  .colab-df-quickchart:hover {\n",
              "    background-color: var(--hover-bg-color);\n",
              "    box-shadow: 0 1px 2px rgba(60, 64, 67, 0.3), 0 1px 3px 1px rgba(60, 64, 67, 0.15);\n",
              "    fill: var(--button-hover-fill-color);\n",
              "  }\n",
              "\n",
              "  .colab-df-quickchart-complete:disabled,\n",
              "  .colab-df-quickchart-complete:disabled:hover {\n",
              "    background-color: var(--disabled-bg-color);\n",
              "    fill: var(--disabled-fill-color);\n",
              "    box-shadow: none;\n",
              "  }\n",
              "\n",
              "  .colab-df-spinner {\n",
              "    border: 2px solid var(--fill-color);\n",
              "    border-color: transparent;\n",
              "    border-bottom-color: var(--fill-color);\n",
              "    animation:\n",
              "      spin 1s steps(1) infinite;\n",
              "  }\n",
              "\n",
              "  @keyframes spin {\n",
              "    0% {\n",
              "      border-color: transparent;\n",
              "      border-bottom-color: var(--fill-color);\n",
              "      border-left-color: var(--fill-color);\n",
              "    }\n",
              "    20% {\n",
              "      border-color: transparent;\n",
              "      border-left-color: var(--fill-color);\n",
              "      border-top-color: var(--fill-color);\n",
              "    }\n",
              "    30% {\n",
              "      border-color: transparent;\n",
              "      border-left-color: var(--fill-color);\n",
              "      border-top-color: var(--fill-color);\n",
              "      border-right-color: var(--fill-color);\n",
              "    }\n",
              "    40% {\n",
              "      border-color: transparent;\n",
              "      border-right-color: var(--fill-color);\n",
              "      border-top-color: var(--fill-color);\n",
              "    }\n",
              "    60% {\n",
              "      border-color: transparent;\n",
              "      border-right-color: var(--fill-color);\n",
              "    }\n",
              "    80% {\n",
              "      border-color: transparent;\n",
              "      border-right-color: var(--fill-color);\n",
              "      border-bottom-color: var(--fill-color);\n",
              "    }\n",
              "    90% {\n",
              "      border-color: transparent;\n",
              "      border-bottom-color: var(--fill-color);\n",
              "    }\n",
              "  }\n",
              "</style>\n",
              "\n",
              "      <script>\n",
              "        async function quickchart(key) {\n",
              "          const quickchartButtonEl =\n",
              "            document.querySelector('#' + key + ' button');\n",
              "          quickchartButtonEl.disabled = true;  // To prevent multiple clicks.\n",
              "          quickchartButtonEl.classList.add('colab-df-spinner');\n",
              "          try {\n",
              "            const charts = await google.colab.kernel.invokeFunction(\n",
              "                'suggestCharts', [key], {});\n",
              "          } catch (error) {\n",
              "            console.error('Error during call to suggestCharts:', error);\n",
              "          }\n",
              "          quickchartButtonEl.classList.remove('colab-df-spinner');\n",
              "          quickchartButtonEl.classList.add('colab-df-quickchart-complete');\n",
              "        }\n",
              "        (() => {\n",
              "          let quickchartButtonEl =\n",
              "            document.querySelector('#df-5bd1afe6-5460-46f2-b3f3-102744b99989 button');\n",
              "          quickchartButtonEl.style.display =\n",
              "            google.colab.kernel.accessAllowed ? 'block' : 'none';\n",
              "        })();\n",
              "      </script>\n",
              "    </div>\n",
              "    </div>\n",
              "  </div>\n"
            ],
            "application/vnd.google.colaboratory.intrinsic+json": {
              "type": "dataframe",
              "variable_name": "filtered_amino_acid_df",
              "summary": "{\n  \"name\": \"filtered_amino_acid_df\",\n  \"rows\": 278,\n  \"fields\": [\n    {\n      \"column\": \"amino_acid\",\n      \"properties\": {\n        \"dtype\": \"string\",\n        \"num_unique_values\": 278,\n        \"samples\": [\n          \"FFIPNFY\",\n          \"LMPFDCL\",\n          \"RTDFTCS\"\n        ],\n        \"semantic_type\": \"\",\n        \"description\": \"\"\n      }\n    },\n    {\n      \"column\": \"count\",\n      \"properties\": {\n        \"dtype\": \"number\",\n        \"std\": 0,\n        \"min\": 1,\n        \"max\": 2,\n        \"num_unique_values\": 2,\n        \"samples\": [\n          2,\n          1\n        ],\n        \"semantic_type\": \"\",\n        \"description\": \"\"\n      }\n    },\n    {\n      \"column\": \"occurrence\",\n      \"properties\": {\n        \"dtype\": \"number\",\n        \"std\": 0,\n        \"min\": 1,\n        \"max\": 1,\n        \"num_unique_values\": 1,\n        \"samples\": [\n          1\n        ],\n        \"semantic_type\": \"\",\n        \"description\": \"\"\n      }\n    }\n  ]\n}"
            }
          },
          "metadata": {}
        }
      ]
    },
    {
      "cell_type": "code",
      "source": [
        "import matplotlib.pyplot as plt\n",
        "import seaborn as sns\n",
        "\n",
        "# Function to calculate the frequencies of each character at each position in the sequences\n",
        "def calculate_frequencies(df):\n",
        "    frequencies = {}\n",
        "    for index, row in df.iterrows():\n",
        "        value = row['amino_acid']\n",
        "        count = row['count']\n",
        "        for i, char in enumerate(value):\n",
        "            freq_dict = frequencies.get(i + 1, {})\n",
        "            freq_dict[char] = freq_dict.get(char, 0) + count\n",
        "            frequencies[i + 1] = freq_dict\n",
        "    return frequencies"
      ],
      "metadata": {
        "id": "xLhYebICFx-c"
      },
      "execution_count": 48,
      "outputs": []
    },
    {
      "cell_type": "code",
      "source": [
        "# Calculate the frequencies of each character at each position\n",
        "freq = calculate_frequencies(filtered_amino_acid_df)\n",
        "\n",
        "# Convert the frequencies dictionary to a DataFrame\n",
        "freq_df = pd.DataFrame(freq)\n",
        "\n",
        "display(freq_df)"
      ],
      "metadata": {
        "colab": {
          "base_uri": "https://localhost:8080/",
          "height": 677
        },
        "id": "Q942CzGcHw-y",
        "outputId": "f19d237f-daa7-44d8-f62d-e14f0f04890f"
      },
      "execution_count": 55,
      "outputs": [
        {
          "output_type": "display_data",
          "data": {
            "text/plain": [
              "    1   2   3   4     5     6   7\n",
              "A   8   7  10   9   7.0   6.0   6\n",
              "C   3  12  15  17  10.0  16.0  10\n",
              "D  11  13   8   9  11.0   4.0   9\n",
              "E   5   6   7   1   NaN   3.0   2\n",
              "F  33  21  31  34  35.0  64.0  51\n",
              "G   9   4   8   7   9.0   2.0   1\n",
              "H  16   5  13  14  20.0   5.0   7\n",
              "I  17  30  20  26  17.0  31.0  29\n",
              "K   4   9   2   1   2.0   4.0   4\n",
              "L  46  29  24  18  50.0  41.0  33\n",
              "M   3  10  10   8   3.0  11.0   4\n",
              "N  10  14  13  13  12.0  11.0  14\n",
              "P  16  12  15  14  14.0   6.0  12\n",
              "Q   7   3   4   4   2.0   NaN   4\n",
              "R  17  17  13  13   4.0   9.0   7\n",
              "S  28  21  34  38  29.0  22.0  30\n",
              "T  19  18  22   9  11.0   9.0  10\n",
              "V  11  24  11  17  24.0  11.0  10\n",
              "W   3   1   6   4   1.0   2.0   1\n",
              "Y  13  23  13  23  18.0  22.0  35"
            ],
            "text/html": [
              "\n",
              "  <div id=\"df-51c63925-3915-4b96-8ce8-114f36ba4f65\" class=\"colab-df-container\">\n",
              "    <div>\n",
              "<style scoped>\n",
              "    .dataframe tbody tr th:only-of-type {\n",
              "        vertical-align: middle;\n",
              "    }\n",
              "\n",
              "    .dataframe tbody tr th {\n",
              "        vertical-align: top;\n",
              "    }\n",
              "\n",
              "    .dataframe thead th {\n",
              "        text-align: right;\n",
              "    }\n",
              "</style>\n",
              "<table border=\"1\" class=\"dataframe\">\n",
              "  <thead>\n",
              "    <tr style=\"text-align: right;\">\n",
              "      <th></th>\n",
              "      <th>1</th>\n",
              "      <th>2</th>\n",
              "      <th>3</th>\n",
              "      <th>4</th>\n",
              "      <th>5</th>\n",
              "      <th>6</th>\n",
              "      <th>7</th>\n",
              "    </tr>\n",
              "  </thead>\n",
              "  <tbody>\n",
              "    <tr>\n",
              "      <th>A</th>\n",
              "      <td>8</td>\n",
              "      <td>7</td>\n",
              "      <td>10</td>\n",
              "      <td>9</td>\n",
              "      <td>7.0</td>\n",
              "      <td>6.0</td>\n",
              "      <td>6</td>\n",
              "    </tr>\n",
              "    <tr>\n",
              "      <th>C</th>\n",
              "      <td>3</td>\n",
              "      <td>12</td>\n",
              "      <td>15</td>\n",
              "      <td>17</td>\n",
              "      <td>10.0</td>\n",
              "      <td>16.0</td>\n",
              "      <td>10</td>\n",
              "    </tr>\n",
              "    <tr>\n",
              "      <th>D</th>\n",
              "      <td>11</td>\n",
              "      <td>13</td>\n",
              "      <td>8</td>\n",
              "      <td>9</td>\n",
              "      <td>11.0</td>\n",
              "      <td>4.0</td>\n",
              "      <td>9</td>\n",
              "    </tr>\n",
              "    <tr>\n",
              "      <th>E</th>\n",
              "      <td>5</td>\n",
              "      <td>6</td>\n",
              "      <td>7</td>\n",
              "      <td>1</td>\n",
              "      <td>NaN</td>\n",
              "      <td>3.0</td>\n",
              "      <td>2</td>\n",
              "    </tr>\n",
              "    <tr>\n",
              "      <th>F</th>\n",
              "      <td>33</td>\n",
              "      <td>21</td>\n",
              "      <td>31</td>\n",
              "      <td>34</td>\n",
              "      <td>35.0</td>\n",
              "      <td>64.0</td>\n",
              "      <td>51</td>\n",
              "    </tr>\n",
              "    <tr>\n",
              "      <th>G</th>\n",
              "      <td>9</td>\n",
              "      <td>4</td>\n",
              "      <td>8</td>\n",
              "      <td>7</td>\n",
              "      <td>9.0</td>\n",
              "      <td>2.0</td>\n",
              "      <td>1</td>\n",
              "    </tr>\n",
              "    <tr>\n",
              "      <th>H</th>\n",
              "      <td>16</td>\n",
              "      <td>5</td>\n",
              "      <td>13</td>\n",
              "      <td>14</td>\n",
              "      <td>20.0</td>\n",
              "      <td>5.0</td>\n",
              "      <td>7</td>\n",
              "    </tr>\n",
              "    <tr>\n",
              "      <th>I</th>\n",
              "      <td>17</td>\n",
              "      <td>30</td>\n",
              "      <td>20</td>\n",
              "      <td>26</td>\n",
              "      <td>17.0</td>\n",
              "      <td>31.0</td>\n",
              "      <td>29</td>\n",
              "    </tr>\n",
              "    <tr>\n",
              "      <th>K</th>\n",
              "      <td>4</td>\n",
              "      <td>9</td>\n",
              "      <td>2</td>\n",
              "      <td>1</td>\n",
              "      <td>2.0</td>\n",
              "      <td>4.0</td>\n",
              "      <td>4</td>\n",
              "    </tr>\n",
              "    <tr>\n",
              "      <th>L</th>\n",
              "      <td>46</td>\n",
              "      <td>29</td>\n",
              "      <td>24</td>\n",
              "      <td>18</td>\n",
              "      <td>50.0</td>\n",
              "      <td>41.0</td>\n",
              "      <td>33</td>\n",
              "    </tr>\n",
              "    <tr>\n",
              "      <th>M</th>\n",
              "      <td>3</td>\n",
              "      <td>10</td>\n",
              "      <td>10</td>\n",
              "      <td>8</td>\n",
              "      <td>3.0</td>\n",
              "      <td>11.0</td>\n",
              "      <td>4</td>\n",
              "    </tr>\n",
              "    <tr>\n",
              "      <th>N</th>\n",
              "      <td>10</td>\n",
              "      <td>14</td>\n",
              "      <td>13</td>\n",
              "      <td>13</td>\n",
              "      <td>12.0</td>\n",
              "      <td>11.0</td>\n",
              "      <td>14</td>\n",
              "    </tr>\n",
              "    <tr>\n",
              "      <th>P</th>\n",
              "      <td>16</td>\n",
              "      <td>12</td>\n",
              "      <td>15</td>\n",
              "      <td>14</td>\n",
              "      <td>14.0</td>\n",
              "      <td>6.0</td>\n",
              "      <td>12</td>\n",
              "    </tr>\n",
              "    <tr>\n",
              "      <th>Q</th>\n",
              "      <td>7</td>\n",
              "      <td>3</td>\n",
              "      <td>4</td>\n",
              "      <td>4</td>\n",
              "      <td>2.0</td>\n",
              "      <td>NaN</td>\n",
              "      <td>4</td>\n",
              "    </tr>\n",
              "    <tr>\n",
              "      <th>R</th>\n",
              "      <td>17</td>\n",
              "      <td>17</td>\n",
              "      <td>13</td>\n",
              "      <td>13</td>\n",
              "      <td>4.0</td>\n",
              "      <td>9.0</td>\n",
              "      <td>7</td>\n",
              "    </tr>\n",
              "    <tr>\n",
              "      <th>S</th>\n",
              "      <td>28</td>\n",
              "      <td>21</td>\n",
              "      <td>34</td>\n",
              "      <td>38</td>\n",
              "      <td>29.0</td>\n",
              "      <td>22.0</td>\n",
              "      <td>30</td>\n",
              "    </tr>\n",
              "    <tr>\n",
              "      <th>T</th>\n",
              "      <td>19</td>\n",
              "      <td>18</td>\n",
              "      <td>22</td>\n",
              "      <td>9</td>\n",
              "      <td>11.0</td>\n",
              "      <td>9.0</td>\n",
              "      <td>10</td>\n",
              "    </tr>\n",
              "    <tr>\n",
              "      <th>V</th>\n",
              "      <td>11</td>\n",
              "      <td>24</td>\n",
              "      <td>11</td>\n",
              "      <td>17</td>\n",
              "      <td>24.0</td>\n",
              "      <td>11.0</td>\n",
              "      <td>10</td>\n",
              "    </tr>\n",
              "    <tr>\n",
              "      <th>W</th>\n",
              "      <td>3</td>\n",
              "      <td>1</td>\n",
              "      <td>6</td>\n",
              "      <td>4</td>\n",
              "      <td>1.0</td>\n",
              "      <td>2.0</td>\n",
              "      <td>1</td>\n",
              "    </tr>\n",
              "    <tr>\n",
              "      <th>Y</th>\n",
              "      <td>13</td>\n",
              "      <td>23</td>\n",
              "      <td>13</td>\n",
              "      <td>23</td>\n",
              "      <td>18.0</td>\n",
              "      <td>22.0</td>\n",
              "      <td>35</td>\n",
              "    </tr>\n",
              "  </tbody>\n",
              "</table>\n",
              "</div>\n",
              "    <div class=\"colab-df-buttons\">\n",
              "\n",
              "  <div class=\"colab-df-container\">\n",
              "    <button class=\"colab-df-convert\" onclick=\"convertToInteractive('df-51c63925-3915-4b96-8ce8-114f36ba4f65')\"\n",
              "            title=\"Convert this dataframe to an interactive table.\"\n",
              "            style=\"display:none;\">\n",
              "\n",
              "  <svg xmlns=\"http://www.w3.org/2000/svg\" height=\"24px\" viewBox=\"0 -960 960 960\">\n",
              "    <path d=\"M120-120v-720h720v720H120Zm60-500h600v-160H180v160Zm220 220h160v-160H400v160Zm0 220h160v-160H400v160ZM180-400h160v-160H180v160Zm440 0h160v-160H620v160ZM180-180h160v-160H180v160Zm440 0h160v-160H620v160Z\"/>\n",
              "  </svg>\n",
              "    </button>\n",
              "\n",
              "  <style>\n",
              "    .colab-df-container {\n",
              "      display:flex;\n",
              "      gap: 12px;\n",
              "    }\n",
              "\n",
              "    .colab-df-convert {\n",
              "      background-color: #E8F0FE;\n",
              "      border: none;\n",
              "      border-radius: 50%;\n",
              "      cursor: pointer;\n",
              "      display: none;\n",
              "      fill: #1967D2;\n",
              "      height: 32px;\n",
              "      padding: 0 0 0 0;\n",
              "      width: 32px;\n",
              "    }\n",
              "\n",
              "    .colab-df-convert:hover {\n",
              "      background-color: #E2EBFA;\n",
              "      box-shadow: 0px 1px 2px rgba(60, 64, 67, 0.3), 0px 1px 3px 1px rgba(60, 64, 67, 0.15);\n",
              "      fill: #174EA6;\n",
              "    }\n",
              "\n",
              "    .colab-df-buttons div {\n",
              "      margin-bottom: 4px;\n",
              "    }\n",
              "\n",
              "    [theme=dark] .colab-df-convert {\n",
              "      background-color: #3B4455;\n",
              "      fill: #D2E3FC;\n",
              "    }\n",
              "\n",
              "    [theme=dark] .colab-df-convert:hover {\n",
              "      background-color: #434B5C;\n",
              "      box-shadow: 0px 1px 3px 1px rgba(0, 0, 0, 0.15);\n",
              "      filter: drop-shadow(0px 1px 2px rgba(0, 0, 0, 0.3));\n",
              "      fill: #FFFFFF;\n",
              "    }\n",
              "  </style>\n",
              "\n",
              "    <script>\n",
              "      const buttonEl =\n",
              "        document.querySelector('#df-51c63925-3915-4b96-8ce8-114f36ba4f65 button.colab-df-convert');\n",
              "      buttonEl.style.display =\n",
              "        google.colab.kernel.accessAllowed ? 'block' : 'none';\n",
              "\n",
              "      async function convertToInteractive(key) {\n",
              "        const element = document.querySelector('#df-51c63925-3915-4b96-8ce8-114f36ba4f65');\n",
              "        const dataTable =\n",
              "          await google.colab.kernel.invokeFunction('convertToInteractive',\n",
              "                                                    [key], {});\n",
              "        if (!dataTable) return;\n",
              "\n",
              "        const docLinkHtml = 'Like what you see? Visit the ' +\n",
              "          '<a target=\"_blank\" href=https://colab.research.google.com/notebooks/data_table.ipynb>data table notebook</a>'\n",
              "          + ' to learn more about interactive tables.';\n",
              "        element.innerHTML = '';\n",
              "        dataTable['output_type'] = 'display_data';\n",
              "        await google.colab.output.renderOutput(dataTable, element);\n",
              "        const docLink = document.createElement('div');\n",
              "        docLink.innerHTML = docLinkHtml;\n",
              "        element.appendChild(docLink);\n",
              "      }\n",
              "    </script>\n",
              "  </div>\n",
              "\n",
              "\n",
              "    <div id=\"df-1a0f4a5b-6463-42fd-a08a-60d903db55b3\">\n",
              "      <button class=\"colab-df-quickchart\" onclick=\"quickchart('df-1a0f4a5b-6463-42fd-a08a-60d903db55b3')\"\n",
              "                title=\"Suggest charts\"\n",
              "                style=\"display:none;\">\n",
              "\n",
              "<svg xmlns=\"http://www.w3.org/2000/svg\" height=\"24px\"viewBox=\"0 0 24 24\"\n",
              "     width=\"24px\">\n",
              "    <g>\n",
              "        <path d=\"M19 3H5c-1.1 0-2 .9-2 2v14c0 1.1.9 2 2 2h14c1.1 0 2-.9 2-2V5c0-1.1-.9-2-2-2zM9 17H7v-7h2v7zm4 0h-2V7h2v10zm4 0h-2v-4h2v4z\"/>\n",
              "    </g>\n",
              "</svg>\n",
              "      </button>\n",
              "\n",
              "<style>\n",
              "  .colab-df-quickchart {\n",
              "      --bg-color: #E8F0FE;\n",
              "      --fill-color: #1967D2;\n",
              "      --hover-bg-color: #E2EBFA;\n",
              "      --hover-fill-color: #174EA6;\n",
              "      --disabled-fill-color: #AAA;\n",
              "      --disabled-bg-color: #DDD;\n",
              "  }\n",
              "\n",
              "  [theme=dark] .colab-df-quickchart {\n",
              "      --bg-color: #3B4455;\n",
              "      --fill-color: #D2E3FC;\n",
              "      --hover-bg-color: #434B5C;\n",
              "      --hover-fill-color: #FFFFFF;\n",
              "      --disabled-bg-color: #3B4455;\n",
              "      --disabled-fill-color: #666;\n",
              "  }\n",
              "\n",
              "  .colab-df-quickchart {\n",
              "    background-color: var(--bg-color);\n",
              "    border: none;\n",
              "    border-radius: 50%;\n",
              "    cursor: pointer;\n",
              "    display: none;\n",
              "    fill: var(--fill-color);\n",
              "    height: 32px;\n",
              "    padding: 0;\n",
              "    width: 32px;\n",
              "  }\n",
              "\n",
              "  .colab-df-quickchart:hover {\n",
              "    background-color: var(--hover-bg-color);\n",
              "    box-shadow: 0 1px 2px rgba(60, 64, 67, 0.3), 0 1px 3px 1px rgba(60, 64, 67, 0.15);\n",
              "    fill: var(--button-hover-fill-color);\n",
              "  }\n",
              "\n",
              "  .colab-df-quickchart-complete:disabled,\n",
              "  .colab-df-quickchart-complete:disabled:hover {\n",
              "    background-color: var(--disabled-bg-color);\n",
              "    fill: var(--disabled-fill-color);\n",
              "    box-shadow: none;\n",
              "  }\n",
              "\n",
              "  .colab-df-spinner {\n",
              "    border: 2px solid var(--fill-color);\n",
              "    border-color: transparent;\n",
              "    border-bottom-color: var(--fill-color);\n",
              "    animation:\n",
              "      spin 1s steps(1) infinite;\n",
              "  }\n",
              "\n",
              "  @keyframes spin {\n",
              "    0% {\n",
              "      border-color: transparent;\n",
              "      border-bottom-color: var(--fill-color);\n",
              "      border-left-color: var(--fill-color);\n",
              "    }\n",
              "    20% {\n",
              "      border-color: transparent;\n",
              "      border-left-color: var(--fill-color);\n",
              "      border-top-color: var(--fill-color);\n",
              "    }\n",
              "    30% {\n",
              "      border-color: transparent;\n",
              "      border-left-color: var(--fill-color);\n",
              "      border-top-color: var(--fill-color);\n",
              "      border-right-color: var(--fill-color);\n",
              "    }\n",
              "    40% {\n",
              "      border-color: transparent;\n",
              "      border-right-color: var(--fill-color);\n",
              "      border-top-color: var(--fill-color);\n",
              "    }\n",
              "    60% {\n",
              "      border-color: transparent;\n",
              "      border-right-color: var(--fill-color);\n",
              "    }\n",
              "    80% {\n",
              "      border-color: transparent;\n",
              "      border-right-color: var(--fill-color);\n",
              "      border-bottom-color: var(--fill-color);\n",
              "    }\n",
              "    90% {\n",
              "      border-color: transparent;\n",
              "      border-bottom-color: var(--fill-color);\n",
              "    }\n",
              "  }\n",
              "</style>\n",
              "\n",
              "      <script>\n",
              "        async function quickchart(key) {\n",
              "          const quickchartButtonEl =\n",
              "            document.querySelector('#' + key + ' button');\n",
              "          quickchartButtonEl.disabled = true;  // To prevent multiple clicks.\n",
              "          quickchartButtonEl.classList.add('colab-df-spinner');\n",
              "          try {\n",
              "            const charts = await google.colab.kernel.invokeFunction(\n",
              "                'suggestCharts', [key], {});\n",
              "          } catch (error) {\n",
              "            console.error('Error during call to suggestCharts:', error);\n",
              "          }\n",
              "          quickchartButtonEl.classList.remove('colab-df-spinner');\n",
              "          quickchartButtonEl.classList.add('colab-df-quickchart-complete');\n",
              "        }\n",
              "        (() => {\n",
              "          let quickchartButtonEl =\n",
              "            document.querySelector('#df-1a0f4a5b-6463-42fd-a08a-60d903db55b3 button');\n",
              "          quickchartButtonEl.style.display =\n",
              "            google.colab.kernel.accessAllowed ? 'block' : 'none';\n",
              "        })();\n",
              "      </script>\n",
              "    </div>\n",
              "    </div>\n",
              "  </div>\n"
            ],
            "application/vnd.google.colaboratory.intrinsic+json": {
              "type": "dataframe",
              "variable_name": "freq_df",
              "summary": "{\n  \"name\": \"freq_df\",\n  \"rows\": 20,\n  \"fields\": [\n    {\n      \"column\": 1,\n      \"properties\": {\n        \"dtype\": \"number\",\n        \"std\": 11,\n        \"min\": 3,\n        \"max\": 46,\n        \"num_unique_values\": 15,\n        \"samples\": [\n          46,\n          7,\n          8\n        ],\n        \"semantic_type\": \"\",\n        \"description\": \"\"\n      }\n    },\n    {\n      \"column\": 2,\n      \"properties\": {\n        \"dtype\": \"number\",\n        \"std\": 8,\n        \"min\": 1,\n        \"max\": 30,\n        \"num_unique_values\": 18,\n        \"samples\": [\n          7,\n          12,\n          9\n        ],\n        \"semantic_type\": \"\",\n        \"description\": \"\"\n      }\n    },\n    {\n      \"column\": 3,\n      \"properties\": {\n        \"dtype\": \"number\",\n        \"std\": 8,\n        \"min\": 2,\n        \"max\": 34,\n        \"num_unique_values\": 14,\n        \"samples\": [\n          4,\n          22,\n          10\n        ],\n        \"semantic_type\": \"\",\n        \"description\": \"\"\n      }\n    },\n    {\n      \"column\": 4,\n      \"properties\": {\n        \"dtype\": \"number\",\n        \"std\": 10,\n        \"min\": 1,\n        \"max\": 38,\n        \"num_unique_values\": 13,\n        \"samples\": [\n          38,\n          13,\n          9\n        ],\n        \"semantic_type\": \"\",\n        \"description\": \"\"\n      }\n    },\n    {\n      \"column\": 5,\n      \"properties\": {\n        \"dtype\": \"number\",\n        \"std\": 12.701936123542337,\n        \"min\": 1.0,\n        \"max\": 50.0,\n        \"num_unique_values\": 17,\n        \"samples\": [\n          7.0,\n          10.0,\n          20.0\n        ],\n        \"semantic_type\": \"\",\n        \"description\": \"\"\n      }\n    },\n    {\n      \"column\": 6,\n      \"properties\": {\n        \"dtype\": \"number\",\n        \"std\": 15.87469205853192,\n        \"min\": 2.0,\n        \"max\": 64.0,\n        \"num_unique_values\": 12,\n        \"samples\": [\n          9.0,\n          11.0,\n          6.0\n        ],\n        \"semantic_type\": \"\",\n        \"description\": \"\"\n      }\n    },\n    {\n      \"column\": 7,\n      \"properties\": {\n        \"dtype\": \"number\",\n        \"std\": 13,\n        \"min\": 1,\n        \"max\": 51,\n        \"num_unique_values\": 14,\n        \"samples\": [\n          33,\n          12,\n          6\n        ],\n        \"semantic_type\": \"\",\n        \"description\": \"\"\n      }\n    }\n  ]\n}"
            }
          },
          "metadata": {}
        }
      ]
    },
    {
      "cell_type": "code",
      "execution_count": 56,
      "metadata": {
        "colab": {
          "base_uri": "https://localhost:8080/",
          "height": 542
        },
        "id": "YUM2QwXcdfAZ",
        "outputId": "aa3060c5-c631-451c-b284-a8a6466cdba4"
      },
      "outputs": [
        {
          "output_type": "display_data",
          "data": {
            "text/plain": [
              "<Figure size 300x600 with 2 Axes>"
            ],
            "image/png": "[encoded data removed]"
          },
          "metadata": {}
        }
      ],
      "source": [
        "# Plot a heatmap of the frequencies\n",
        "plt.figure(figsize=(3, 6))\n",
        "sns.heatmap(freq_df,\n",
        "            cmap='YlGnBu',\n",
        "            xticklabels=range(1, freq_df.shape[1] + 1),\n",
        "            linewidths=0.5,\n",
        "            cbar_kws={'label': 'Frequency'}) # add \"Frequency\" as colormap title\n",
        "plt.xlabel('Position in 7-mer')\n",
        "plt.ylabel('Amino Acid Residue')\n",
        "plt.show()"
      ]
    }
  ],
  "metadata": {
    "kernelspec": {
      "display_name": "bioinfo",
      "language": "python",
      "name": "python3"
    },
    "language_info": {
      "codemirror_mode": {
        "name": "ipython",
        "version": 3
      },
      "file_extension": ".py",
      "mimetype": "text/x-python",
      "name": "python",
      "nbconvert_exporter": "python",
      "pygments_lexer": "ipython3",
      "version": "3.7.13"
    },
    "colab": {
      "provenance": [],
      "include_colab_link": true
    }
  },
  "nbformat": 4,
  "nbformat_minor": 0
}