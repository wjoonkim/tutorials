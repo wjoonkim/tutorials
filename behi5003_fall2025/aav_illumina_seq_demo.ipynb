{
  "cells": [
    {
      "cell_type": "markdown",
      "metadata": {
        "id": "view-in-github",
        "colab_type": "text"
      },
      "source": [
        "<a href=\"https://colab.research.google.com/github/wjoonkim/tutorials/blob/main/behi5003_fall2025/aav_illumina_seq_demo.ipynb\" target=\"_parent\"><img src=\"https://colab.research.google.com/assets/colab-badge.svg\" alt=\"Open In Colab\"/></a>"
      ]
    },
    {
      "cell_type": "markdown",
      "source": [
        "# BEHI 5003 Fall 2025\n",
        "## Tutorial: DNA sequencing data processing and analysis\n",
        "### Author: Won Joon Kim\n",
        "### Affiliation: Biomolecular Engineering Lab (BEL), CBE, HKUST\n",
        "\n",
        "I acknowledge the use of generative AI (Gemini Agent in Colab) in writing the code below.\n",
        "\n",
        "Only the raw input data and outline was adapted from\n",
        "the Jupyter notebook authored by Mr. Mingyi Sun (BEL, CBE, HKUST)\n",
        "during the Fall 2024 offering of BIEN 6930B (this course).\n",
        "\n",
        "I sincerely thank the authors and maintainers of the packages used in this tutorial!"
      ],
      "metadata": {
        "id": "iCNasP3tiNa7"
      }
    },
    {
      "cell_type": "markdown",
      "metadata": {
        "id": "XADv_gMfdfAW"
      },
      "source": [
        "# 1. Setup the Colab environment for data processing and analysis"
      ]
    },
    {
      "cell_type": "code",
      "source": [
        "# install biopython for sequence analysis on python\n",
        "try:\n",
        "    import google.colab\n",
        "    # Running on Google Colab, so install Biopython first\n",
        "    !pip install biopython\n",
        "except ImportError:\n",
        "    pass"
      ],
      "metadata": {
        "id": "RzZKdbUyz2eg"
      },
      "execution_count": null,
      "outputs": []
    },
    {
      "cell_type": "code",
      "metadata": {
        "id": "610fe83b"
      },
      "source": [
        "# Install conda for command-line tools\n",
        "!pip install -q condacolab\n",
        "import condacolab\n",
        "condacolab.install()"
      ],
      "execution_count": null,
      "outputs": []
    },
    {
      "cell_type": "code",
      "source": [
        "import os\n",
        "import sys\n",
        "\n",
        "from urllib.request import urlretrieve\n",
        "\n",
        "import Bio\n",
        "\n",
        "print(\"Python version:\", sys.version_info)\n",
        "print(\"Biopython version:\", Bio.__version__)"
      ],
      "metadata": {
        "id": "Zf2fT5uo3pCZ"
      },
      "execution_count": null,
      "outputs": []
    },
    {
      "cell_type": "code",
      "metadata": {
        "id": "b50c484f"
      },
      "source": [
        "# Install the cutadapt package from bioconda\n",
        "!conda install -c bioconda cutadapt -y -q"
      ],
      "execution_count": null,
      "outputs": []
    },
    {
      "cell_type": "code",
      "source": [
        "# read basic info about the cutadapt package\n",
        "!cutadapt"
      ],
      "metadata": {
        "id": "aSOsR2gue74_"
      },
      "execution_count": null,
      "outputs": []
    },
    {
      "cell_type": "markdown",
      "metadata": {
        "id": "q_J0_QHjdfAY"
      },
      "source": [
        "# 2. Explore how the raw Illumina_demo_pre.fastq file looks like"
      ]
    },
    {
      "cell_type": "markdown",
      "source": [
        "Where is the raw data stored (i.e., the file path)?"
      ],
      "metadata": {
        "id": "15Lg6Ctp5bWS"
      }
    },
    {
      "cell_type": "code",
      "source": [
        "# list everything in the current directory in a long, human-interpretable format\n",
        "!ls -lSh"
      ],
      "metadata": {
        "id": "bLvc5g4a5Xia"
      },
      "execution_count": null,
      "outputs": []
    },
    {
      "cell_type": "markdown",
      "source": [
        "Lines of code that start with an exclamation mark (i.e., `!`) are `bash` commands in Google Colab. They send the command (those that come after `!`) to the \"terminal\" (where you can talk to your computer more directly), instead of running it on the Python interpreter."
      ],
      "metadata": {
        "id": "oAcXwnfIg-x1"
      }
    },
    {
      "cell_type": "markdown",
      "source": [
        "This is exactly how a FASTQ file looks like:"
      ],
      "metadata": {
        "id": "DBxSPsjC586t"
      }
    },
    {
      "cell_type": "code",
      "source": [
        "# print out the first 8 lines of the Illumina_demo_pre.fastq file\n",
        "!head -n 8 /content/Illumina_demo_pre.fastq"
      ],
      "metadata": {
        "id": "urGsGJyqkRQy"
      },
      "execution_count": null,
      "outputs": []
    },
    {
      "cell_type": "markdown",
      "source": [
        "A FASTQ file is nothing but a text file containing the sequence of life (e.g., DNA and protein)!\n",
        "\n",
        "All information for a single read from the sequencer is stored every 4 lines. The most important lines are:\n",
        "- the second, which contains the DNA sequence (where you see `A`, `T`, `G`, `C`, and sometimes `N`), and\n",
        "- the fourth, which contains the Phred quality scores for each base call (where you see `F`, `#`, `:`, `,`, etc.).\n",
        "\n",
        "You may refer to:\n",
        "- this [link](https://en.wikipedia.org/wiki/FASTQ_format) for more information on the FASTQ file format, and\n",
        "- this [link](https://en.wikipedia.org/wiki/Phred_quality_score) for more information on Phred quality scores."
      ],
      "metadata": {
        "id": "idPpBIEWhXVI"
      }
    },
    {
      "cell_type": "markdown",
      "source": [
        "A word of caution! Hardcoding \"absolute paths\" (i.e., one that starts with `/`, e.g., `/content/Illumina_demo_pre.fastq`) is not a good habit.\n",
        "\n",
        "Below shows a better way of calling your files via \"relative paths\" (i.e., does not start with `/`; but this requires you to be extra careful when organizing your files)."
      ],
      "metadata": {
        "id": "fXTRSGbA22Ac"
      }
    },
    {
      "cell_type": "markdown",
      "source": [
        "How many reads are there?\n",
        "\n",
        "This is a useful `bash` command to use to quickly check how many lines of anything there are in a text(-based) file (like sequencing data)!"
      ],
      "metadata": {
        "id": "Sg_4BzheBGx5"
      }
    },
    {
      "cell_type": "code",
      "source": [
        "# count all the lines in Illumina_demo_pre.fastq that starts with \"@\"\n",
        "!grep -c '^@' Illumina_demo_pre.fastq"
      ],
      "metadata": {
        "id": "2EyFepN1BIkG"
      },
      "execution_count": null,
      "outputs": []
    },
    {
      "cell_type": "markdown",
      "source": [
        "Let's import it to Python to see the base call quality in numbers!"
      ],
      "metadata": {
        "id": "TGXNknu16Frj"
      }
    },
    {
      "cell_type": "code",
      "source": [
        "from Bio import SeqIO\n",
        "\n",
        "fastq_file = 'Illumina_demo_pre.fastq'\n",
        "\n",
        "try:\n",
        "    # Open the fastq file and read the first record\n",
        "    with open(fastq_file, \"r\") as handle:\n",
        "        first_read = next(SeqIO.parse(handle, \"fastq\"))\n",
        "        # Illumina_demo_pre_seqrecordlist = list(SeqIO.parse(handle, \"fastq\"))\n",
        "\n",
        "    # Print the first read\n",
        "    print(first_read.id)\n",
        "    print(first_read.seq)\n",
        "    print(first_read.letter_annotations[\"phred_quality\"])\n",
        "\n",
        "except FileNotFoundError:\n",
        "    print(f\"Error: The file {fastq_file} was not found.\")\n",
        "except StopIteration:\n",
        "    print(f\"Error: The file {fastq_file} is empty or does not contain valid fastq records.\")\n",
        "except Exception as e:\n",
        "    print(f\"An error occurred: {e}\")"
      ],
      "metadata": {
        "id": "6VsB16EU4bLs"
      },
      "execution_count": null,
      "outputs": []
    },
    {
      "cell_type": "code",
      "source": [
        "import matplotlib.pyplot as plt\n",
        "import seaborn as sns\n",
        "\n",
        "# line plot of phred qualities in the first read\n",
        "# Assuming 'first_read' object exists from a previous cell\n",
        "if 'first_read' in locals():\n",
        "    phred_qualities = first_read.letter_annotations[\"phred_quality\"]\n",
        "\n",
        "    sns.lineplot(x=range(len(phred_qualities)), y=phred_qualities)\n",
        "    plt.title(\"Phred Quality Scores Across Positions in the First Read\")\n",
        "    plt.xlabel(\"Position in Read\")\n",
        "    plt.ylabel(\"Phred Quality Score\")\n",
        "    plt.ylim(0, 42) # Phred scores typically range from 0 to 41\n",
        "    plt.grid(True, alpha=0.5)\n",
        "    plt.show()\n",
        "else:\n",
        "    print(\"Error: 'first_read' object not found. Please run the cell to import the first read first.\")"
      ],
      "metadata": {
        "id": "5QwF_XgiAI-d"
      },
      "execution_count": null,
      "outputs": []
    },
    {
      "cell_type": "markdown",
      "source": [
        "Let's check how long the first raw read is!"
      ],
      "metadata": {
        "id": "jMgfbp4gAtL0"
      }
    },
    {
      "cell_type": "code",
      "source": [
        "from Bio.Seq import Seq\n",
        "len(first_read.seq)"
      ],
      "metadata": {
        "id": "Af-gYqhj5p1_"
      },
      "execution_count": null,
      "outputs": []
    },
    {
      "cell_type": "code",
      "source": [
        "import matplotlib.pyplot as plt\n",
        "import seaborn as sns\n",
        "from Bio import SeqIO\n",
        "\n",
        "fastq_file = 'Illumina_demo_pre.fastq'\n",
        "sequence_lengths = []\n",
        "\n",
        "try:\n",
        "    # Read all sequence lengths from the fastq file\n",
        "    with open(fastq_file, \"r\") as handle:\n",
        "        for record in SeqIO.parse(handle, \"fastq\"):\n",
        "            sequence_lengths.append(len(record.seq))\n",
        "\n",
        "    # Plot a histogram of the sequence lengths\n",
        "    sns.histplot(sequence_lengths, bins=50, kde=False, edgecolor=None)\n",
        "    plt.title('Distribution of Sequence Lengths in Raw FASTQ File')\n",
        "    plt.xlabel('Sequence Length (bp)')\n",
        "    plt.ylabel('Frequency')\n",
        "    plt.grid(True, alpha=0.5)\n",
        "    plt.show()\n",
        "\n",
        "except FileNotFoundError:\n",
        "    print(f\"Error: The file {fastq_file} was not found.\")\n",
        "except Exception as e:\n",
        "    print(f\"An error occurred: {e}\")"
      ],
      "metadata": {
        "id": "efwVRUtm6rkY"
      },
      "execution_count": null,
      "outputs": []
    },
    {
      "cell_type": "markdown",
      "source": [
        "**Question 1: What can you say about the library length?**"
      ],
      "metadata": {
        "id": "gYz4JP3B7ZVH"
      }
    },
    {
      "cell_type": "code",
      "source": [
        "import matplotlib.pyplot as plt\n",
        "import seaborn as sns\n",
        "from Bio import SeqIO\n",
        "\n",
        "all_quals = []\n",
        "\n",
        "try:\n",
        "    # Read all quality scores from the fastq file\n",
        "    with open(fastq_file, \"r\") as handle:\n",
        "        for record in SeqIO.parse(handle, \"fastq\"):\n",
        "            all_quals.extend(record.letter_annotations['phred_quality'])\n",
        "\n",
        "    # Plot a histogram of the quality scores\n",
        "    sns.histplot(all_quals, bins=100, kde=False, edgecolor=None)\n",
        "    plt.title(\"Distribution of Phred Quality Scores in Raw FASTQ File\")\n",
        "    plt.xlabel(\"Phred Quality Score\")\n",
        "    plt.ylabel(\"Frequency\")\n",
        "    plt.grid(True, alpha=0.5)\n",
        "    plt.show()\n",
        "\n",
        "except FileNotFoundError:\n",
        "    print(f\"Error: The file {fastq_file} was not found.\")\n",
        "except Exception as e:\n",
        "    print(f\"An error occurred: {e}\")"
      ],
      "metadata": {
        "id": "wPKNnJm17g7o"
      },
      "execution_count": null,
      "outputs": []
    },
    {
      "cell_type": "markdown",
      "source": [
        "**Question 2: What can you say about the sequencing quality?**\n",
        "\n",
        "$ \\text{Phred quality score } Q = -10\\log_{10}(p_{\\text{error}}) $"
      ],
      "metadata": {
        "id": "6AsYdIWMeVtq"
      }
    },
    {
      "cell_type": "markdown",
      "metadata": {
        "id": "Fu-Hr_pwdfAZ"
      },
      "source": [
        "# 3. Remove \"adapter\" sequences from the data\n",
        "\"adapter\" in this case denotes constant sequences flanking the desired 7-mer insertion library"
      ]
    },
    {
      "cell_type": "code",
      "metadata": {
        "id": "b7ef7b18"
      },
      "source": [
        "import os\n",
        "# check the number of cores in the Colab runtime\n",
        "num_cores = os.cpu_count()\n",
        "print(f\"Number of CPU cores available: {num_cores}\")"
      ],
      "execution_count": null,
      "outputs": []
    },
    {
      "cell_type": "code",
      "source": [
        "# (DO NOT CHANGE) set up file paths\n",
        "raw_input_file = \"Illumina_demo_pre.fastq\"\n",
        "untrimmed_output_file = \"Illumina_demo_pre_untrimmed.fastq\" # discard\n",
        "lt21_output_file = \"Illumina_demo_pre_lt21.fastq\" # discard\n",
        "gt21_output_file = \"Illumina_demo_pre_gt21.fastq\" # discard\n",
        "len21_output_file = \"Illumina_demo_pre_len21.fastq\" # keep"
      ],
      "metadata": {
        "id": "OG4a1neX6o5x"
      },
      "execution_count": null,
      "outputs": []
    },
    {
      "cell_type": "markdown",
      "source": [
        "**Question 3: What are the adapter sequences and library length?**\n",
        "\n",
        "Hint: You can find the necessary information to put in the prompt boxes on the right from today's slides!"
      ],
      "metadata": {
        "id": "HDGOKGDDrG4n"
      }
    },
    {
      "cell_type": "code",
      "metadata": {
        "id": "b0aa1e1f"
      },
      "source": [
        "#@markdown - define adapter sequences\n",
        "fiveprime_adapter_seq = \"\" #@param {type:\"string\"}\n",
        "threeprime_adapter_seq = \"\" #@param {type:\"string\"}\n",
        "\n",
        "#@markdown - define length of library (in base pairs)\n",
        "library_len = 0 #@param {type:\"raw\"}"
      ],
      "execution_count": null,
      "outputs": []
    },
    {
      "cell_type": "code",
      "source": [
        "import subprocess\n",
        "\n",
        "# (DO NOT CHANGE) Define the cutadapt command and arguments\n",
        "command = [\n",
        "    \"cutadapt\",\n",
        "    \"--cores\", f\"{num_cores}\", # Using all available cores\n",
        "    \"--adapter\", f\"{fiveprime_adapter_seq}...{threeprime_adapter_seq}\",\n",
        "    \"--untrimmed-output\", untrimmed_output_file,\n",
        "    \"--minimum-length\", f\"{library_len}\",\n",
        "    \"--too-short-output\", lt21_output_file,\n",
        "    \"--maximum-length\", f\"{library_len}\",\n",
        "    \"--too-long-output\", gt21_output_file,\n",
        "    \"--output\", len21_output_file,\n",
        "    raw_input_file,\n",
        "]\n",
        "\n",
        "# (DO NOT CHANGE) Execute the command\n",
        "try:\n",
        "    subprocess.run(command, check=True)\n",
        "    print(\"Cutadapt command executed successfully.\")\n",
        "except subprocess.CalledProcessError as e:\n",
        "    print(f\"Error executing cutadapt command: {e}\")\n",
        "except FileNotFoundError:\n",
        "    print(\"Error: cutadapt command not found. Make sure cutadapt is installed and in your PATH.\")"
      ],
      "metadata": {
        "id": "39xRhgtY6sNa"
      },
      "execution_count": null,
      "outputs": []
    },
    {
      "cell_type": "markdown",
      "source": [
        "# 4. Check the desired output file"
      ],
      "metadata": {
        "id": "Mh7KqWXCuDfD"
      }
    },
    {
      "cell_type": "markdown",
      "source": [
        "**Question 4: What is the desired output FASTQ file, and how do the first 4 lines look?**\n",
        "\n",
        "Hint: You can use a previous `bash` command (i.e., one that starts with `!`) on the newly created file!"
      ],
      "metadata": {
        "id": "zVNFkBg6rhXB"
      }
    },
    {
      "cell_type": "code",
      "source": [
        "# replace this comment (starting from \"#\") with your code here"
      ],
      "metadata": {
        "id": "Rbfnc6Z1thLs"
      },
      "execution_count": null,
      "outputs": []
    },
    {
      "cell_type": "markdown",
      "source": [
        "**Question 5: How many reads are left after keeping only the desired lengths?**"
      ],
      "metadata": {
        "id": "1moFd9OiBcL5"
      }
    },
    {
      "cell_type": "code",
      "source": [
        "# your code here"
      ],
      "metadata": {
        "id": "sBO5zGLhulCK"
      },
      "execution_count": null,
      "outputs": []
    },
    {
      "cell_type": "markdown",
      "source": [
        "# 5. Convert into amino acid residues"
      ],
      "metadata": {
        "id": "iDoqldvAC8mF"
      }
    },
    {
      "cell_type": "code",
      "execution_count": null,
      "metadata": {
        "id": "kLZVjV6ndfAZ"
      },
      "outputs": [],
      "source": [
        "from Bio import SeqIO\n",
        "from Bio.Seq import Seq\n",
        "import pandas as pd\n",
        "import argparse\n",
        "from tqdm import tqdm\n",
        "\n",
        "def count_unique_dna_seq(fastq_file):\n",
        "    \"\"\"\n",
        "    Reads DNA sequences from a fastq file, counts the occurrences of each unique sequence,\n",
        "    and stores the results in a pandas DataFrame.\n",
        "\n",
        "    Parameters:\n",
        "    fastq_file (str): Path to the input fastq file.\n",
        "\n",
        "    Returns:\n",
        "    pd.DataFrame: DataFrame containing unique sequences and their counts.\n",
        "    \"\"\"\n",
        "    sequence_counts = {}\n",
        "\n",
        "    # Read sequences from the fastq file with tqdm progress bar\n",
        "    for record in tqdm(SeqIO.parse(fastq_file, \"fastq\"), desc=\"Parsed: \", unit=\" sequences\", dynamic_ncols=True):\n",
        "        sequence = str(record.seq)\n",
        "        if sequence in sequence_counts:\n",
        "            sequence_counts[sequence] += 1\n",
        "        else:\n",
        "            sequence_counts[sequence] = 1\n",
        "\n",
        "    # Convert the dictionary to a pandas DataFrame\n",
        "    df = pd.DataFrame(list(sequence_counts.items()), columns=['sequence', 'count'])\n",
        "    df['length'] = df['sequence'].apply(len)\n",
        "    df['amino_acid'] = df['sequence'].apply(lambda seq: str(Seq(seq).translate()))\n",
        "\n",
        "    return df\n",
        "\n",
        "def count_unique_aa_seq(df):\n",
        "    \"\"\"\n",
        "    Counts the occurrences of each unique amino acid sequence in the DataFrame.\n",
        "\n",
        "    Parameters:\n",
        "    df (pd.DataFrame): DataFrame containing DNA sequences, their counts, lengths, and translations.\n",
        "\n",
        "    Returns:\n",
        "    pd.DataFrame: DataFrame containing unique amino acid sequences, their summed counts, and occurrences.\n",
        "    \"\"\"\n",
        "    # Group by amino_acid and aggregate the sum of counts and the occurrence\n",
        "    amino_acid_counts_df = df.groupby('amino_acid').agg(\n",
        "        count=('count', 'sum'),\n",
        "        occurrence=('amino_acid', 'count')\n",
        "    ).reset_index()\n",
        "\n",
        "    return amino_acid_counts_df\n",
        "\n",
        "def filter_codons(df):\n",
        "    \"\"\"\n",
        "    Filters out sequences with a '*' (stop codon) or 'X' (unconfident base call) in the amino_acid column.\n",
        "\n",
        "    Parameters:\n",
        "    df (pd.DataFrame): DataFrame containing unique amino acid sequences, their summed counts, and occurrences.\n",
        "\n",
        "    Returns:\n",
        "    tuple: A tuple containing two DataFrames:\n",
        "        - Filtered DataFrame without sequences containing \"*\" or \"X\".\n",
        "        - DataFrame containing sequences that were filtered out.\n",
        "    \"\"\"\n",
        "    filtered_df = df[~df['amino_acid'].str.contains(r'\\*|X')]\n",
        "    filtered_out_df = df[df['amino_acid'].str.contains(r'\\*|X')]\n",
        "\n",
        "    return filtered_df, filtered_out_df"
      ]
    },
    {
      "cell_type": "code",
      "source": [
        "input_file = \"Illumina_demo_pre_len21.fastq\"\n",
        "dna_df = count_unique_dna_seq(input_file)\n",
        "dna_output_file = \"Illumina_demo_pre_len21_dna.csv\"\n",
        "dna_df.to_csv(dna_output_file, index=False)\n",
        "print(f\"\\n{len(dna_df)} DNA variants saved.\")\n",
        "display(dna_df)"
      ],
      "metadata": {
        "id": "177lxUX04yEy"
      },
      "execution_count": null,
      "outputs": []
    },
    {
      "cell_type": "code",
      "source": [
        "amino_acid_df = count_unique_aa_seq(dna_df)\n",
        "amino_acid_output_file = \"Illumina_demo_pre_len21_aa.csv\"\n",
        "amino_acid_df.to_csv(amino_acid_output_file, index=False)\n",
        "print(f\"{len(amino_acid_df)} raw amino acid variants saved.\")\n",
        "display(amino_acid_df)"
      ],
      "metadata": {
        "id": "ChggnXOn40Qc"
      },
      "execution_count": null,
      "outputs": []
    },
    {
      "cell_type": "code",
      "source": [
        "filtered_amino_acid_df, filtered_out_amino_acid_df = filter_codons(amino_acid_df)\n",
        "filtered_amino_acid_output_file = \"Illumina_demo_pre_len21_aa_filtered.csv\"\n",
        "filtered_amino_acid_df.to_csv(filtered_amino_acid_output_file, index=False)\n",
        "print(f\"{len(filtered_amino_acid_df)} filtered amino acid variants saved.\")\n",
        "display(filtered_amino_acid_df) # this is the desired output dataframe!"
      ],
      "metadata": {
        "id": "SMf0BeVP43kS"
      },
      "execution_count": null,
      "outputs": []
    },
    {
      "cell_type": "code",
      "source": [
        "filtered_out_amino_acid_output_file = \"Illumina_demo_pre_len21_aa_filtered_out.csv\"\n",
        "filtered_out_amino_acid_df.to_csv(filtered_out_amino_acid_output_file, index=False)\n",
        "print(f\"{len(filtered_out_amino_acid_df)} filtered out amino acid variants saved.\")\n",
        "display(filtered_out_amino_acid_df)"
      ],
      "metadata": {
        "id": "UCKV12e1DMkw"
      },
      "execution_count": null,
      "outputs": []
    },
    {
      "cell_type": "markdown",
      "source": [
        "**Question 6: How many valid amino-acid level variants are there in this library?**"
      ],
      "metadata": {
        "id": "KhhupoWTfvWs"
      }
    },
    {
      "cell_type": "markdown",
      "metadata": {
        "id": "9VuJ_vEydfAZ"
      },
      "source": [
        "# 6. Visualizing the 7-mer insertion variants we have in our data"
      ]
    },
    {
      "cell_type": "code",
      "source": [
        "display(filtered_amino_acid_df)"
      ],
      "metadata": {
        "id": "gPEt1QyPE7dG"
      },
      "execution_count": null,
      "outputs": []
    },
    {
      "cell_type": "code",
      "source": [
        "import matplotlib.pyplot as plt\n",
        "import seaborn as sns\n",
        "\n",
        "# Function to calculate the frequencies of each character at each position in the sequences\n",
        "def calculate_frequencies(df):\n",
        "    frequencies = {}\n",
        "    for index, row in df.iterrows():\n",
        "        value = row['amino_acid']\n",
        "        count = row['count']\n",
        "        for i, char in enumerate(value):\n",
        "            freq_dict = frequencies.get(i + 1, {})\n",
        "            freq_dict[char] = freq_dict.get(char, 0) + count\n",
        "            frequencies[i + 1] = freq_dict\n",
        "    return frequencies"
      ],
      "metadata": {
        "id": "xLhYebICFx-c"
      },
      "execution_count": null,
      "outputs": []
    },
    {
      "cell_type": "code",
      "source": [
        "# Calculate the frequencies of each character at each position\n",
        "freq = calculate_frequencies(filtered_amino_acid_df)\n",
        "\n",
        "# Convert the frequencies dictionary to a DataFrame\n",
        "freq_df = pd.DataFrame(freq)\n",
        "\n",
        "display(freq_df)"
      ],
      "metadata": {
        "id": "Q942CzGcHw-y"
      },
      "execution_count": null,
      "outputs": []
    },
    {
      "cell_type": "code",
      "execution_count": null,
      "metadata": {
        "id": "YUM2QwXcdfAZ"
      },
      "outputs": [],
      "source": [
        "# Plot a heatmap of the frequencies\n",
        "plt.figure(figsize=(3, 6))\n",
        "sns.heatmap(freq_df,\n",
        "            cmap='YlGnBu',\n",
        "            xticklabels=range(1, freq_df.shape[1] + 1),\n",
        "            linewidths=0.5,\n",
        "            cbar_kws={'label': 'Frequency'}) # add \"Frequency\" as colormap title\n",
        "plt.xlabel('Position in 7-mer')\n",
        "plt.ylabel('Amino Acid Residue')\n",
        "plt.show()"
      ]
    },
    {
      "cell_type": "markdown",
      "source": [
        "**Question 7: What can you say about this library's amino acid composition?**"
      ],
      "metadata": {
        "id": "bNR4qHCZj5di"
      }
    },
    {
      "cell_type": "markdown",
      "source": [
        "# You made it to the end of the tutorial!\n",
        "# Congratulations, you just analyzed your first AAV sequencing data!"
      ],
      "metadata": {
        "id": "7yEB4myokrI2"
      }
    }
  ],
  "metadata": {
    "kernelspec": {
      "display_name": "bioinfo",
      "language": "python",
      "name": "python3"
    },
    "language_info": {
      "codemirror_mode": {
        "name": "ipython",
        "version": 3
      },
      "file_extension": ".py",
      "mimetype": "text/x-python",
      "name": "python",
      "nbconvert_exporter": "python",
      "pygments_lexer": "ipython3",
      "version": "3.7.13"
    },
    "colab": {
      "provenance": [],
      "include_colab_link": true
    }
  },
  "nbformat": 4,
  "nbformat_minor": 0
}